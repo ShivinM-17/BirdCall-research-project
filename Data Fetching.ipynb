{
 "cells": [
  {
   "cell_type": "code",
   "execution_count": 3,
   "id": "ba67c5ad",
   "metadata": {},
   "outputs": [
    {
     "name": "stdout",
     "output_type": "stream",
     "text": [
      "Looking in indexes: https://pypi.org/simple, https://pypi.ngc.nvidia.com\n",
      "Requirement already satisfied: requests in c:\\users\\shivin\\anaconda3\\lib\\site-packages (2.31.0)\n",
      "Requirement already satisfied: charset-normalizer<4,>=2 in c:\\users\\shivin\\anaconda3\\lib\\site-packages (from requests) (2.0.4)\n",
      "Requirement already satisfied: idna<4,>=2.5 in c:\\users\\shivin\\anaconda3\\lib\\site-packages (from requests) (3.4)\n",
      "Requirement already satisfied: urllib3<3,>=1.21.1 in c:\\users\\shivin\\anaconda3\\lib\\site-packages (from requests) (1.26.16)\n",
      "Requirement already satisfied: certifi>=2017.4.17 in c:\\users\\shivin\\anaconda3\\lib\\site-packages (from requests) (2023.7.22)\n"
     ]
    }
   ],
   "source": [
    "!pip install requests"
   ]
  },
  {
   "cell_type": "code",
   "execution_count": 4,
   "id": "d8b1bd72",
   "metadata": {},
   "outputs": [
    {
     "name": "stdout",
     "output_type": "stream",
     "text": [
      "JSON data saved to C:\\Users\\Shivin\\Machine Learning\\Untitled Folder 2\\bird_data\\audio\\bird_recordings_afghanistan.json\n"
     ]
    }
   ],
   "source": [
    "import requests\n",
    "import json\n",
    "import os\n",
    "\n",
    "# Define the URL for the Xeno-canto API with your query\n",
    "url = \"https://xeno-canto.org/api/2/recordings?query=cnt:India grp:birds\"\n",
    "\n",
    "# Make an HTTP GET request to the API and specify that you want JSON\n",
    "response = requests.get(url)\n",
    "\n",
    "# Check if the request was successful\n",
    "if response.status_code == 200:\n",
    "    # Parse the JSON response\n",
    "    data = response.json()\n",
    "\n",
    "    # Define the path to the folder where you want to save the JSON file\n",
    "    folder_path = \"C:\\\\Users\\\\Shivin\\\\Machine Learning\\\\Untitled Folder 2\\\\bird_data\\\\audio\"  \n",
    "\n",
    "    # Ensure the folder exists, create it if it doesn't\n",
    "    if not os.path.exists(folder_path):\n",
    "        os.makedirs(folder_path)\n",
    "\n",
    "    # Define the file path for the JSON file\n",
    "    file_path = os.path.join(folder_path, 'bird_recordings_afghanistan.json')\n",
    "\n",
    "    # Save the JSON data to the file\n",
    "    with open(file_path, 'w', encoding='utf-8') as json_file:\n",
    "        json.dump(data, json_file, ensure_ascii=False, indent=4)\n",
    "\n",
    "    print(f\"JSON data saved to {file_path}\")\n",
    "else:\n",
    "    print(f\"Request failed with status code {response.status_code}\")\n"
   ]
  },
  {
   "cell_type": "code",
   "execution_count": 2,
   "id": "74d8fa7a",
   "metadata": {},
   "outputs": [
    {
     "name": "stdout",
     "output_type": "stream",
     "text": [
      "Looking in indexes: https://pypi.org/simple, https://pypi.ngc.nvidia.comNote: you may need to restart the kernel to use updated packages.\n",
      "\n",
      "Collecting pyserial\n",
      "  Obtaining dependency information for pyserial from https://files.pythonhosted.org/packages/07/bc/587a445451b253b285629263eb51c2d8e9bcea4fc97826266d186f96f558/pyserial-3.5-py2.py3-none-any.whl.metadata\n",
      "  Downloading pyserial-3.5-py2.py3-none-any.whl.metadata (1.6 kB)\n",
      "Downloading pyserial-3.5-py2.py3-none-any.whl (90 kB)\n",
      "   ---------------------------------------- 90.6/90.6 kB 737.1 kB/s eta 0:00:00\n",
      "Installing collected packages: pyserial\n",
      "Successfully installed pyserial-3.5\n"
     ]
    }
   ],
   "source": [
    "pip install pyserial"
   ]
  },
  {
   "cell_type": "code",
   "execution_count": 5,
   "id": "e6f20f3b",
   "metadata": {},
   "outputs": [],
   "source": [
    "import tensorflow"
   ]
  },
  {
   "cell_type": "code",
   "execution_count": 5,
   "id": "ab26ffae",
   "metadata": {},
   "outputs": [],
   "source": [
    "## GET ONLY THE REQUIRED METADATA FROM THE JSONS\n",
    "\n",
    "def make_req_metadata(json_filepath:str, country_name:str):\n",
    "    \n",
    "    # Read the JSON data from the file\n",
    "    with open(json_filepath, 'r', encoding='utf-8') as json_file:\n",
    "        data = json.load(json_file)\n",
    "    \n",
    "    # Extract specific keys from each dictionary in the \"recordings\" list\n",
    "    desired_keys = [\"gen\", \"sp\", \"group\", \"en\", \"cnt\", \"loc\", \"lat\", \"lng\", \"alt\", \"method\", \"date\", \"rmk\"]\n",
    "\n",
    "    # Create a new list of dictionaries with only the desired keys\n",
    "    filtered_data = []\n",
    "\n",
    "#     for recording in data[\"recordings\"]:\n",
    "#         filtered_recording = {key: recording[key] for key in desired_keys}\n",
    "#         filtered_data.append(filtered_recording)\n",
    "    \n",
    "#     data['recordings'] = filtered_data\n",
    "    \n",
    "    # Define the path to the folder where you want to save the JSON file\n",
    "    folder_path = \"C:\\\\Users\\\\Shivin\\\\Machine Learning\\\\Untitled Folder 2\\\\bird_data_filtered\"  \n",
    "\n",
    "    # Ensure the folder exists, create it if it doesn't\n",
    "    if not os.path.exists(folder_path):\n",
    "        os.makedirs(folder_path)\n",
    "    \n",
    "    # Define the file path for the JSON file\n",
    "    file_path = os.path.join(folder_path, f'bird_recordings_{country_name}.json')\n",
    "    \n",
    "    # Save the filtered data to a JSON file\n",
    "    with open(file_path, 'w', encoding='utf-8') as json_file:\n",
    "        json.dump(data, json_file, ensure_ascii=False, indent=4)\n",
    "        \n",
    "    print(f\"Filtered data saved to {file_path}\")\n",
    "    "
   ]
  },
  {
   "cell_type": "code",
   "execution_count": 6,
   "id": "e7ce35ac",
   "metadata": {},
   "outputs": [],
   "source": [
    "countries = [\n",
    "    \"india\",\n",
    "    \"pakistan\",\n",
    "    \"bangladesh\",\n",
    "    \"nepal\",\n",
    "    \"bhutan\",\n",
    "    \"srilanka\",\n",
    "    \"maldives\",\n",
    "    \"afghanistan\" ]"
   ]
  },
  {
   "cell_type": "code",
   "execution_count": 9,
   "id": "badf71f9",
   "metadata": {},
   "outputs": [
    {
     "ename": "FileNotFoundError",
     "evalue": "[Errno 2] No such file or directory: 'C:\\\\Users\\\\Shivin\\\\Machine Learning\\\\Untitled Folder 2\\\\bird_data_India\\\\bird_recordings_india.json'",
     "output_type": "error",
     "traceback": [
      "\u001b[1;31m---------------------------------------------------------------------------\u001b[0m",
      "\u001b[1;31mFileNotFoundError\u001b[0m                         Traceback (most recent call last)",
      "\u001b[1;32m~\\AppData\\Local\\Temp\\ipykernel_24328\\1192201448.py\u001b[0m in \u001b[0;36m<module>\u001b[1;34m\u001b[0m\n\u001b[0;32m      1\u001b[0m \u001b[1;32mfor\u001b[0m \u001b[0mcountry\u001b[0m \u001b[1;32min\u001b[0m \u001b[0mcountries\u001b[0m\u001b[1;33m:\u001b[0m\u001b[1;33m\u001b[0m\u001b[1;33m\u001b[0m\u001b[0m\n\u001b[0;32m      2\u001b[0m     \u001b[0murl\u001b[0m \u001b[1;33m=\u001b[0m \u001b[1;34mf\"C:\\\\Users\\\\Shivin\\\\Machine Learning\\\\Untitled Folder 2\\\\bird_data_India\\\\bird_recordings_{country}.json\"\u001b[0m\u001b[1;33m\u001b[0m\u001b[1;33m\u001b[0m\u001b[0m\n\u001b[1;32m----> 3\u001b[1;33m     \u001b[0mmake_req_metadata\u001b[0m\u001b[1;33m(\u001b[0m\u001b[0murl\u001b[0m\u001b[1;33m,\u001b[0m \u001b[0mcountry\u001b[0m\u001b[1;33m)\u001b[0m\u001b[1;33m\u001b[0m\u001b[1;33m\u001b[0m\u001b[0m\n\u001b[0m",
      "\u001b[1;32m~\\AppData\\Local\\Temp\\ipykernel_24328\\2836958161.py\u001b[0m in \u001b[0;36mmake_req_metadata\u001b[1;34m(json_filepath, country_name)\u001b[0m\n\u001b[0;32m      4\u001b[0m \u001b[1;33m\u001b[0m\u001b[0m\n\u001b[0;32m      5\u001b[0m     \u001b[1;31m# Read the JSON data from the file\u001b[0m\u001b[1;33m\u001b[0m\u001b[1;33m\u001b[0m\u001b[0m\n\u001b[1;32m----> 6\u001b[1;33m     \u001b[1;32mwith\u001b[0m \u001b[0mopen\u001b[0m\u001b[1;33m(\u001b[0m\u001b[0mjson_filepath\u001b[0m\u001b[1;33m,\u001b[0m \u001b[1;34m'r'\u001b[0m\u001b[1;33m,\u001b[0m \u001b[0mencoding\u001b[0m\u001b[1;33m=\u001b[0m\u001b[1;34m'utf-8'\u001b[0m\u001b[1;33m)\u001b[0m \u001b[1;32mas\u001b[0m \u001b[0mjson_file\u001b[0m\u001b[1;33m:\u001b[0m\u001b[1;33m\u001b[0m\u001b[1;33m\u001b[0m\u001b[0m\n\u001b[0m\u001b[0;32m      7\u001b[0m         \u001b[0mdata\u001b[0m \u001b[1;33m=\u001b[0m \u001b[0mjson\u001b[0m\u001b[1;33m.\u001b[0m\u001b[0mload\u001b[0m\u001b[1;33m(\u001b[0m\u001b[0mjson_file\u001b[0m\u001b[1;33m)\u001b[0m\u001b[1;33m\u001b[0m\u001b[1;33m\u001b[0m\u001b[0m\n\u001b[0;32m      8\u001b[0m \u001b[1;33m\u001b[0m\u001b[0m\n",
      "\u001b[1;31mFileNotFoundError\u001b[0m: [Errno 2] No such file or directory: 'C:\\\\Users\\\\Shivin\\\\Machine Learning\\\\Untitled Folder 2\\\\bird_data_India\\\\bird_recordings_india.json'"
     ]
    }
   ],
   "source": [
    "for country in countries:\n",
    "    url = f\"C:\\\\Users\\\\Shivin\\\\Machine Learning\\\\Untitled Folder 2\\\\bird_data_India\\\\bird_recordings_{country}.json\"\n",
    "    make_req_metadata(url, country)"
   ]
  },
  {
   "cell_type": "code",
   "execution_count": null,
   "id": "5cebab25",
   "metadata": {},
   "outputs": [],
   "source": []
  }
 ],
 "metadata": {
  "kernelspec": {
   "display_name": "Python 3 (ipykernel)",
   "language": "python",
   "name": "python3"
  },
  "language_info": {
   "codemirror_mode": {
    "name": "ipython",
    "version": 3
   },
   "file_extension": ".py",
   "mimetype": "text/x-python",
   "name": "python",
   "nbconvert_exporter": "python",
   "pygments_lexer": "ipython3",
   "version": "3.9.13"
  }
 },
 "nbformat": 4,
 "nbformat_minor": 5
}
